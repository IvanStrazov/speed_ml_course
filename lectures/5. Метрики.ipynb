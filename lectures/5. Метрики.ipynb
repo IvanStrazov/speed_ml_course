{
 "cells": [
  {
   "cell_type": "markdown",
   "id": "957a7bf4-8544-46bb-a01b-b32aab3cf12a",
   "metadata": {},
   "source": [
    "# __5. Метрики__"
   ]
  },
  {
   "cell_type": "code",
   "execution_count": null,
   "id": "b79206e2-d0d0-4563-83cd-1d5d08b4a01b",
   "metadata": {},
   "outputs": [],
   "source": []
  },
  {
   "cell_type": "code",
   "execution_count": null,
   "id": "d5bf9beb-9f0d-42ac-8be9-a4d520b563ff",
   "metadata": {},
   "outputs": [],
   "source": []
  },
  {
   "cell_type": "code",
   "execution_count": null,
   "id": "9887b808-1b08-48b8-8a88-c6a379aecedb",
   "metadata": {},
   "outputs": [],
   "source": []
  },
  {
   "cell_type": "markdown",
   "id": "112e853c-ef61-4020-b139-8949f245dd5d",
   "metadata": {},
   "source": [
    "https://www.kaggle.com/vipulgandhi/how-to-choose-right-metric-for-evaluating-ml-model"
   ]
  }
 ],
 "metadata": {
  "kernelspec": {
   "display_name": "Python 3",
   "language": "python",
   "name": "python3"
  },
  "language_info": {
   "codemirror_mode": {
    "name": "ipython",
    "version": 3
   },
   "file_extension": ".py",
   "mimetype": "text/x-python",
   "name": "python",
   "nbconvert_exporter": "python",
   "pygments_lexer": "ipython3",
   "version": "3.9.4"
  }
 },
 "nbformat": 4,
 "nbformat_minor": 5
}
