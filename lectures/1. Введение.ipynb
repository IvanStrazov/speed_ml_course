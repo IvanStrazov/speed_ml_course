{
 "cells": [
  {
   "cell_type": "markdown",
   "id": "1136ff7d-f2d5-47b8-a22f-dc6f20c032ba",
   "metadata": {},
   "source": [
    "# __1. Введение__"
   ]
  },
  {
   "cell_type": "markdown",
   "id": "8a7191e2-fe10-4604-bb0d-8aa79f824451",
   "metadata": {},
   "source": [
    "# __Библиотеки и настройки сессии__"
   ]
  },
  {
   "cell_type": "markdown",
   "id": "59c0ddc1-825d-49fd-8241-cc7d8a94d69d",
   "metadata": {},
   "source": [
    "### Библиотеки"
   ]
  },
  {
   "cell_type": "code",
   "execution_count": 1,
   "id": "f087e4fd-7291-47eb-86b9-d25bf2abad99",
   "metadata": {},
   "outputs": [],
   "source": [
    "import pandas as pd\n",
    "import numpy as np\n",
    "\n",
    "from sklearn.datasets import make_regression\n",
    "from sklearn.model_selection import train_test_split\n",
    "from sklearn.linear_model import LinearRegression\n",
    "\n",
    "from IPython.core.interactiveshell import InteractiveShell"
   ]
  },
  {
   "cell_type": "markdown",
   "id": "34051946-a8f1-456c-a515-29fb2a6f25e3",
   "metadata": {},
   "source": [
    "### Настройки сессии"
   ]
  },
  {
   "cell_type": "code",
   "execution_count": 2,
   "id": "d2b0f680-d337-4f5c-8c55-6cb5af48932b",
   "metadata": {},
   "outputs": [],
   "source": [
    "InteractiveShell.ast_node_interactivity = \"all\""
   ]
  },
  {
   "cell_type": "markdown",
   "id": "97e3581b-85f1-4d96-854b-e1d1c22a34e4",
   "metadata": {},
   "source": [
    " "
   ]
  },
  {
   "cell_type": "markdown",
   "id": "3f261341-6f9a-4afb-b225-caef3aac07f1",
   "metadata": {},
   "source": [
    " "
   ]
  },
  {
   "cell_type": "markdown",
   "id": "3f8dbc52-cd89-4440-b3b6-8c5337f933db",
   "metadata": {},
   "source": [
    " "
   ]
  },
  {
   "cell_type": "markdown",
   "id": "1fd13e63-c8cd-474a-9d07-978a89d9bcf9",
   "metadata": {},
   "source": [
    " "
   ]
  },
  {
   "cell_type": "markdown",
   "id": "507ed423-9560-49f0-8856-df539b926b39",
   "metadata": {},
   "source": [
    " "
   ]
  },
  {
   "cell_type": "markdown",
   "id": "7c2349f0-3701-4d8c-a1ee-1d46cbcd8d15",
   "metadata": {},
   "source": [
    "# __Типы задач в ML__"
   ]
  },
  {
   "cell_type": "markdown",
   "id": "4678d0a7-63c2-4d91-bd31-03f93395c67d",
   "metadata": {},
   "source": [
    "## 1. Регрессия\n",
    "\n",
    "####  Примеры:\n",
    "- Курс валюты.\n",
    "- Объём рынка.\n",
    "\n",
    "#### Оценка качества: размер отклонения от истинного значения.\n",
    "\n",
    "#### Основные модели:\n",
    "- Линейная регрессия:\n",
    "    - Lasso.\n",
    "    - Ridge.\n",
    "    - ElasticNet.\n",
    "- Метод опорных векторов.\n",
    "- k ближайших соседей.\n",
    "- Дерево решений.\n",
    "- Случайный лес.\n",
    "- Градиентный бустинг.\n",
    "- Нейронные сети."
   ]
  },
  {
   "cell_type": "markdown",
   "id": "66cb86d3-ef44-471f-a7d8-ef82d3477469",
   "metadata": {},
   "source": [
    " "
   ]
  },
  {
   "cell_type": "markdown",
   "id": "3e1b290d-6d67-4095-8944-f1e174497c50",
   "metadata": {},
   "source": [
    " "
   ]
  },
  {
   "cell_type": "markdown",
   "id": "bc5cab27-e3dc-466b-afb8-fd677af8c4e2",
   "metadata": {},
   "source": [
    "## 2. Классификация\n",
    "\n",
    "#### Примеры\n",
    "- Отток клиентов.\n",
    "- Детекция лиц.\n",
    "\n",
    "#### Оценка качества: наличие отклонения от истинного значения.\n",
    "\n",
    "#### Основные модели:\n",
    "- Логистическая регрессия.\n",
    "- Метод опорных векторов.\n",
    "- k ближайших соседей.\n",
    "- Дерево решений.\n",
    "- Случайный лес.\n",
    "- Градиентный бустинг.\n",
    "- Нейронные сети."
   ]
  },
  {
   "cell_type": "markdown",
   "id": "b5484e62-a4df-48d9-a68e-18303a15760f",
   "metadata": {},
   "source": [
    " "
   ]
  },
  {
   "cell_type": "markdown",
   "id": "b69badc9-bf76-4c85-a6d0-70b9bb50397e",
   "metadata": {},
   "source": [
    " "
   ]
  },
  {
   "cell_type": "markdown",
   "id": "b9d5e0c0-d0c7-493e-8eec-00e209d89dff",
   "metadata": {},
   "source": [
    "## 3. Кластеризация\n",
    "\n",
    "#### Примеры\n",
    "- Сегментирование пользователей для акции.\n",
    "- Разбиение регионов на группы.\n",
    "\n",
    "#### Оценка качества: скучкованность данных по кластерам.\n",
    "\n",
    "#### Основные модели:\n",
    "- Иерархическая кластеризация.\n",
    "- KMeans.\n",
    "- DBSCAN."
   ]
  },
  {
   "cell_type": "markdown",
   "id": "a277ba6a-c4cf-4334-b1a7-502a3585144b",
   "metadata": {},
   "source": [
    " "
   ]
  },
  {
   "cell_type": "markdown",
   "id": "b3a9491f-1028-410d-b44c-bbb0728f0041",
   "metadata": {},
   "source": [
    " "
   ]
  },
  {
   "cell_type": "markdown",
   "id": "b2c91040-a928-4048-9dc7-cdfdd69ab47e",
   "metadata": {},
   "source": [
    "## 4. Понижение размерности\n",
    "\n",
    "#### Примеры\n",
    "- Архиваторы (WinRAR).\n",
    "\n",
    "#### Оценка качества: снижение \"веса\" данных при сохранении высокой информативности.\n",
    "\n",
    "#### Основные модели:\n",
    "- PCA.\n",
    "- t-SNE."
   ]
  },
  {
   "cell_type": "markdown",
   "id": "852ea5b7-9e20-485f-a0ee-64b3bf979479",
   "metadata": {},
   "source": [
    " "
   ]
  },
  {
   "cell_type": "markdown",
   "id": "f09b3d50-57b1-4727-9b63-f5fc906ad8b8",
   "metadata": {},
   "source": [
    " "
   ]
  },
  {
   "cell_type": "markdown",
   "id": "02b0bd27-0696-40af-9084-4ed59f85cb30",
   "metadata": {},
   "source": [
    "## 5. Ранжирование\n",
    "\n",
    "#### Примеры\n",
    "- Поиск в браузере."
   ]
  },
  {
   "cell_type": "markdown",
   "id": "5115ce11-5ac6-4233-9871-e348e34e1abf",
   "metadata": {},
   "source": [
    " "
   ]
  },
  {
   "cell_type": "markdown",
   "id": "cf07492c-f914-475f-a744-e5403f4aeb0f",
   "metadata": {},
   "source": [
    " "
   ]
  },
  {
   "cell_type": "markdown",
   "id": "bb7055f4-042c-4317-9191-16317fef5e3e",
   "metadata": {},
   "source": [
    "## ?. Временные ряды\n",
    "\n",
    "#### Примеры\n",
    "- Динамика рынков банковских продуктов.\n",
    "- Определения уровня риска утечки газа по показаниям датчиков.\n",
    "\n",
    "#### Оценка качества: зависит от таргета.\n",
    "\n",
    "#### Основные модели:\n",
    "- Экспоненциальное сглаживание.\n",
    "- ARIMA, SARIMA, SARIMAX.\n",
    "- Facebook Prophet.\n",
    "- Нейронные сети."
   ]
  },
  {
   "cell_type": "markdown",
   "id": "7c40acdc-b6e2-426b-a887-c11c71771049",
   "metadata": {},
   "source": [
    " "
   ]
  },
  {
   "cell_type": "markdown",
   "id": "b0c130c5-0c34-4ace-81da-9f048565c910",
   "metadata": {},
   "source": [
    " "
   ]
  },
  {
   "cell_type": "markdown",
   "id": "e3fe501e-159b-40a9-b798-b5d33cd996e3",
   "metadata": {},
   "source": [
    " "
   ]
  },
  {
   "cell_type": "markdown",
   "id": "8dc66afc-a25d-467b-8d41-19a6df7b8467",
   "metadata": {},
   "source": [
    " "
   ]
  },
  {
   "cell_type": "markdown",
   "id": "b5327abe-6634-4c13-80bd-4ed4a4f63ee7",
   "metadata": {},
   "source": [
    " "
   ]
  },
  {
   "cell_type": "markdown",
   "id": "eda8e712-9cef-4b16-8e4a-25ba9d564bb3",
   "metadata": {},
   "source": [
    "# __Пример ML задачи__"
   ]
  },
  {
   "cell_type": "code",
   "execution_count": 3,
   "id": "fd430391-6819-4273-9aa2-64a3dafcc789",
   "metadata": {},
   "outputs": [
    {
     "data": {
      "text/html": [
       "<div>\n",
       "<style scoped>\n",
       "    .dataframe tbody tr th:only-of-type {\n",
       "        vertical-align: middle;\n",
       "    }\n",
       "\n",
       "    .dataframe tbody tr th {\n",
       "        vertical-align: top;\n",
       "    }\n",
       "\n",
       "    .dataframe thead th {\n",
       "        text-align: right;\n",
       "    }\n",
       "</style>\n",
       "<table border=\"1\" class=\"dataframe\">\n",
       "  <thead>\n",
       "    <tr style=\"text-align: right;\">\n",
       "      <th></th>\n",
       "      <th>x_1</th>\n",
       "      <th>x_2</th>\n",
       "      <th>x_3</th>\n",
       "      <th>x_4</th>\n",
       "      <th>x_5</th>\n",
       "      <th>x_6</th>\n",
       "      <th>x_7</th>\n",
       "      <th>x_8</th>\n",
       "      <th>x_9</th>\n",
       "      <th>x_10</th>\n",
       "    </tr>\n",
       "  </thead>\n",
       "  <tbody>\n",
       "    <tr>\n",
       "      <th>0</th>\n",
       "      <td>1.097905</td>\n",
       "      <td>0.850497</td>\n",
       "      <td>-0.354811</td>\n",
       "      <td>0.238436</td>\n",
       "      <td>-0.73272</td>\n",
       "      <td>1.330078</td>\n",
       "      <td>0.095849</td>\n",
       "      <td>-0.118412</td>\n",
       "      <td>0.201241</td>\n",
       "      <td>0.352197</td>\n",
       "    </tr>\n",
       "    <tr>\n",
       "      <th>1</th>\n",
       "      <td>0.132415</td>\n",
       "      <td>0.070622</td>\n",
       "      <td>-2.395223</td>\n",
       "      <td>-1.434655</td>\n",
       "      <td>-0.89272</td>\n",
       "      <td>-0.037076</td>\n",
       "      <td>0.257399</td>\n",
       "      <td>-0.476469</td>\n",
       "      <td>-0.034899</td>\n",
       "      <td>0.054096</td>\n",
       "    </tr>\n",
       "  </tbody>\n",
       "</table>\n",
       "</div>"
      ],
      "text/plain": [
       "        x_1       x_2       x_3       x_4      x_5       x_6       x_7  \\\n",
       "0  1.097905  0.850497 -0.354811  0.238436 -0.73272  1.330078  0.095849   \n",
       "1  0.132415  0.070622 -2.395223 -1.434655 -0.89272 -0.037076  0.257399   \n",
       "\n",
       "        x_8       x_9      x_10  \n",
       "0 -0.118412  0.201241  0.352197  \n",
       "1 -0.476469 -0.034899  0.054096  "
      ]
     },
     "execution_count": 3,
     "metadata": {},
     "output_type": "execute_result"
    }
   ],
   "source": [
    "X, y, coef = make_regression(n_samples=10000,\n",
    "                             n_features=10,\n",
    "                             n_informative=3,\n",
    "                             coef=True,\n",
    "                             random_state=42)\n",
    "X = pd.DataFrame(X, columns=[f\"x_{i}\" for i in range(1, X.shape[1] + 1)])\n",
    "y = pd.Series(y)\n",
    "X_train, X_test, y_train, y_test = train_test_split(X, y, test_size=0.2)\n",
    "\n",
    "X.head(2)"
   ]
  },
  {
   "cell_type": "code",
   "execution_count": 4,
   "id": "c847d0c8-12a7-44d3-8058-87f758424d81",
   "metadata": {},
   "outputs": [
    {
     "name": "stdout",
     "output_type": "stream",
     "text": [
      "('x_1', 0.0)\n",
      "('x_2', 68.3)\n",
      "('x_3', 0.0)\n",
      "('x_4', 0.0)\n",
      "('x_5', 0.0)\n",
      "('x_6', 0.0)\n",
      "('x_7', 0.0)\n",
      "('x_8', 19.4)\n",
      "('x_9', 29.5)\n",
      "('x_10', 0.0)\n"
     ]
    }
   ],
   "source": [
    "print(*zip(X.columns, coef.round(1)), sep=\"\\n\")"
   ]
  },
  {
   "cell_type": "code",
   "execution_count": 5,
   "id": "bf0ac1de-ce29-4527-aec8-dfc22575f1c0",
   "metadata": {},
   "outputs": [
    {
     "name": "stdout",
     "output_type": "stream",
     "text": [
      "('x_1', 0.0)\n",
      "('x_2', 68.3)\n",
      "('x_3', 0.0)\n",
      "('x_4', 0.0)\n",
      "('x_5', -0.0)\n",
      "('x_6', 0.0)\n",
      "('x_7', 0.0)\n",
      "('x_8', 19.4)\n",
      "('x_9', 29.5)\n",
      "('x_10', -0.0)\n"
     ]
    }
   ],
   "source": [
    "lr = LinearRegression().fit(X_train, y_train)\n",
    "print(*zip(X.columns, lr.coef_.round(1)), sep=\"\\n\")"
   ]
  },
  {
   "cell_type": "code",
   "execution_count": 6,
   "id": "b753a9bc-e539-4580-ab55-b144184c41d0",
   "metadata": {},
   "outputs": [
    {
     "name": "stdout",
     "output_type": "stream",
     "text": [
      "Отклонение от реальных данных: 0.0\n"
     ]
    }
   ],
   "source": [
    "y_pred = lr.predict(X_test)\n",
    "\n",
    "print(f\"Отклонение от реальных данных: {np.sum(np.abs(y_pred - y_test)):.1f}\")"
   ]
  },
  {
   "cell_type": "markdown",
   "id": "35415a3c-9662-4b53-93f6-ac833f653a79",
   "metadata": {},
   "source": [
    " "
   ]
  },
  {
   "cell_type": "markdown",
   "id": "bbe50dfa-6ebd-4699-9791-5a7ec72049dd",
   "metadata": {},
   "source": [
    " "
   ]
  },
  {
   "cell_type": "markdown",
   "id": "43a70407-bb9f-47d7-b61a-dfbea6c69224",
   "metadata": {},
   "source": [
    " "
   ]
  },
  {
   "cell_type": "markdown",
   "id": "cd68f4dd-6e35-4b04-8d42-141e0da87612",
   "metadata": {},
   "source": [
    " "
   ]
  },
  {
   "cell_type": "markdown",
   "id": "7acc4c02-23fb-42fb-8fd2-5a0891ab578f",
   "metadata": {},
   "source": [
    " "
   ]
  },
  {
   "cell_type": "markdown",
   "id": "5d2e7638-c9ff-4cf1-90ac-5def07c2c176",
   "metadata": {},
   "source": [
    "# __Как работает ML__"
   ]
  },
  {
   "cell_type": "markdown",
   "id": "4fd634c6-c6fe-42de-9b8c-6e772e2871d8",
   "metadata": {},
   "source": [
    "- Что машина пытается сделать? Найти взаимосвязи в данных, имеющие обобщающий эффект.\n",
    "- Как машина делает прогноз? Берёт данные, веса и отправляет в математическую функцию.\n",
    "- Как машина подбирает веса? За счёт оптимизации фукнции потерь.\n",
    "- Что такое функция потерь? Функция численно отражающая качество прогнозов модели через сравнение реальных значений и прогнозных."
   ]
  },
  {
   "cell_type": "markdown",
   "id": "b3a7d162-045e-4f79-9df5-f50632206e0c",
   "metadata": {},
   "source": [
    " "
   ]
  },
  {
   "cell_type": "markdown",
   "id": "7080ae6d-dcb0-4044-be2b-d71c50f4e15d",
   "metadata": {},
   "source": [
    " "
   ]
  },
  {
   "cell_type": "markdown",
   "id": "4e44ca69-d3d8-4351-9f57-bcef6dfa8888",
   "metadata": {},
   "source": [
    " "
   ]
  },
  {
   "cell_type": "markdown",
   "id": "4de9dad9-4649-494f-a8ee-2bed782527e2",
   "metadata": {},
   "source": [
    " "
   ]
  },
  {
   "cell_type": "markdown",
   "id": "d0e85b0e-e316-45b6-abc6-dc27b0829bef",
   "metadata": {},
   "source": [
    " "
   ]
  },
  {
   "cell_type": "markdown",
   "id": "14ea478c-c790-49ac-80c8-13474e3b6bcc",
   "metadata": {},
   "source": [
    "# __Функция потерь (loss function)__\n",
    "\n",
    "Функция от весов модели, оптимизируемая во время обучения модели (обычно минимизуется).\n",
    "\n",
    "Обычные требования:\n",
    "- Определённость\n",
    "- Дифференцируемость\n",
    "- Наличие минимума"
   ]
  },
  {
   "cell_type": "markdown",
   "id": "03dea12d-643e-4d0c-911b-5704458159c7",
   "metadata": {},
   "source": [
    " "
   ]
  },
  {
   "cell_type": "markdown",
   "id": "7541deeb-1479-48c9-a42f-da43433dc48e",
   "metadata": {},
   "source": [
    " "
   ]
  },
  {
   "cell_type": "markdown",
   "id": "b52031f3-6d3c-49a9-9943-8b443e2bdf69",
   "metadata": {},
   "source": [
    "## 1. Случай для одного фактора\n",
    "### $ \\text{Mean Squared Error} = \\frac { \\sum_{i=1}^{n} ( y_{i} - \\hat{y_{i}} ) ^ {2} } {n} = \\frac { \\sum_{i=1}^{n} ( y_{i} - (\\beta + \\sum_{j=1}^{m} (w_{j} \\cdot x_{ij}) ) ) ^ {2} } {n} = f(w_{1...m}, \\beta) $\n",
    "### $ \\text{MSE} = \\frac { \\sum_{i=1}^{n} ( y_{i} - \\beta - w \\cdot x_{i} ) ^ {2} } {n} $\n",
    "### $ \\text{MSE}'_{\\beta} = \\frac { \\sum_{i=1}^{n} (-2 \\cdot ( y_{i} - \\beta - w \\cdot x_{i} ) ) } {n} = \\frac {2}{n} \\cdot \\sum_{i=1}^{n}  ( \\beta + w \\cdot x_{i} - y_{i} ) $\n",
    "### $ \\text{MSE}'_{w} = \\frac { \\sum_{i=1}^{n} (-2 x_{i} \\cdot ( y_{i} - \\beta - w \\cdot x_{i} ) ) } {n} = \\frac {2}{n} \\cdot \\sum_{i=1}^{n}  ( x_{i} \\cdot ( \\beta + w \\cdot x_{i} - y_{i} ) ) $\n",
    "### $ \\overrightarrow{gradient} = \\overrightarrow{( \\text{MSE}'_{w} ; \\text{MSE}'_{\\beta} )} $"
   ]
  },
  {
   "cell_type": "markdown",
   "id": "fb591ebf-8722-4b3f-8964-808aa1858a61",
   "metadata": {},
   "source": [
    " "
   ]
  },
  {
   "cell_type": "markdown",
   "id": "fc71aab1-88d4-45ba-8b9e-5c3efc1534ce",
   "metadata": {},
   "source": [
    "### \"Простой\" способ решения\n",
    "### $ \\overrightarrow{gradient} = 0 $\n",
    "#### Система из 1 + ||w|| уравнений с 1 + ||w|| неизвестными."
   ]
  },
  {
   "cell_type": "markdown",
   "id": "917a8890-e47e-43ba-9377-3ab0d145071e",
   "metadata": {},
   "source": [
    " "
   ]
  },
  {
   "cell_type": "markdown",
   "id": "d8b57a47-7e68-4905-ae78-1720efa6e5f0",
   "metadata": {},
   "source": [
    "### Градиентный спуск\n",
    "### $ \\overrightarrow{(w, \\beta)} = \\overrightarrow{(w, \\beta)} - learning\\_rate \\cdot \\overrightarrow{gradient} $"
   ]
  },
  {
   "cell_type": "markdown",
   "id": "bad5b0bb-0508-4198-a003-fb20ce9fb486",
   "metadata": {},
   "source": [
    " "
   ]
  },
  {
   "cell_type": "markdown",
   "id": "a681387e-2957-47f6-b70c-bfba6fd6a3ce",
   "metadata": {},
   "source": [
    " "
   ]
  },
  {
   "cell_type": "markdown",
   "id": "99f11007-22eb-4d57-9441-2c580bb0cca8",
   "metadata": {},
   "source": [
    "## 2. Популярные функции потерь для регрессии\n",
    "#### $ \\text{Mean Squared Error} = \\frac { \\sum_{i=1}^{n} ( y_{i} - \\beta - w \\cdot x_{i} ) ^ {2} } {n}$\n",
    "#### $ \\text{Root Mean Squared Error} = \\sqrt{ \\frac{ \\sum_{i=1}^{n} ( y_{i} - \\hat{y_{i}} ) ^ {2} }{n} }$\n",
    "#### $ \\text{Mean Absolute Error} = \\frac{1}{n} \\cdot \\sum_{i=1}^{n} | y_{i} - \\hat{y_{i}} |$\n",
    "#### $ \\text{Mean Absolute Percentage Error} = \\frac{1}{n} \\cdot \\sum_{i=1}^{n} | \\frac{ y_{i} - \\hat{y_{i}} } {y_{i}} | $\n",
    "#### $ \\text{Root Mean Squared Log Error} = \\sqrt{ \\frac{ \\sum_{i=1}^{n} ( \\log{(y_{i}+1)} - \\log{(\\hat{y_{i}}+1)} ) ^ {2} }{n} } $"
   ]
  },
  {
   "cell_type": "markdown",
   "id": "329ed023-cef2-4a1e-9d56-d7f85530c97d",
   "metadata": {},
   "source": [
    " "
   ]
  },
  {
   "cell_type": "markdown",
   "id": "8bae0ca1-37ce-4675-97b6-d77aa802888d",
   "metadata": {},
   "source": [
    " "
   ]
  },
  {
   "cell_type": "markdown",
   "id": "890d61db-8631-448f-ab7c-688cd0b77334",
   "metadata": {},
   "source": [
    "## 3. Плюсы и минусы некоторых функций потерь\n",
    "- MAPE\n",
    "    - \"+\":\n",
    "        + Высокая интерпретируемость (на сколько процентов в среднем ошибается модель)\n",
    "    - \"-\":\n",
    "        - Склонность к нулевым значениям\n",
    "- RMSE\n",
    "    - \"+\":\n",
    "        + Средняя интерпретируемость (на сколько в среднем ошибается модель)\n",
    "    - \"-\":\n",
    "        - Подверженность выбросам среди высоких значений\n",
    "- RMSLE:\n",
    "    - \"+\":\n",
    "        - Сбалансированность относительно высоких и низких значений\n",
    "    - \"-\":\n",
    "        - Низкая интерпретируемость"
   ]
  },
  {
   "cell_type": "markdown",
   "id": "20e1c6ac-e9a6-4893-b54d-0f38236d442b",
   "metadata": {},
   "source": [
    " "
   ]
  },
  {
   "cell_type": "markdown",
   "id": "d80562fa-d944-4ce7-8be9-d73dfd39bfd8",
   "metadata": {},
   "source": [
    " "
   ]
  },
  {
   "cell_type": "markdown",
   "id": "4865d97a-ca05-4ea7-9188-be6922808829",
   "metadata": {},
   "source": [
    " "
   ]
  },
  {
   "cell_type": "markdown",
   "id": "0b39292f-e585-4b13-a6bf-ba03f5de7a67",
   "metadata": {},
   "source": [
    " "
   ]
  },
  {
   "cell_type": "markdown",
   "id": "44982ae6-b89f-4b87-9491-f185e9fd9b67",
   "metadata": {},
   "source": [
    " "
   ]
  },
  {
   "cell_type": "markdown",
   "id": "d1caf439-dad8-441a-8ed1-e822a033d034",
   "metadata": {},
   "source": [
    "# __Метрика качества__\n",
    "\n",
    "Численно выраженное качество модели.\n",
    "\n",
    "Требования:\n",
    "- Определённость\n",
    "- Интерпретируемость"
   ]
  },
  {
   "cell_type": "markdown",
   "id": "b74d97c9-e8a6-4dec-b902-4a7ce9747b46",
   "metadata": {},
   "source": [
    " "
   ]
  },
  {
   "cell_type": "markdown",
   "id": "2891142d-5e50-4be2-8aa0-34cfcc33c96e",
   "metadata": {},
   "source": [
    " "
   ]
  },
  {
   "cell_type": "markdown",
   "id": "a1720c7c-599b-4aef-860a-63505e16edde",
   "metadata": {},
   "source": [
    "## 1. Популярные метрики для регрессии\n",
    "#### $ R^2 = 1 - \\frac { \\sum_{i=1}^{n} ( y_{i} - \\hat{y_{i}} )^{2} } { \\sum_{i=1}^{n} ( y_{i} - \\overline{y} )^{2} }$\n",
    "#### $ \\text{Mean Absolute Percentage Error} = \\frac{1}{n} \\cdot \\sum_{i=1}^{n} | \\frac{ y_{i} - \\hat{y_{i}} } {y_{i}} | $\n",
    "#### $ \\text{Median Absolute Percentage Error} = \\text{median}_{i} ( | \\frac{ y_{i} - \\hat{y_{i}} } {y_{i}} | ) $"
   ]
  },
  {
   "cell_type": "markdown",
   "id": "ee263867-5a49-4c1c-9e08-5fe560b13e9e",
   "metadata": {},
   "source": [
    " "
   ]
  },
  {
   "cell_type": "markdown",
   "id": "8523d77f-2b7d-4f5c-a483-3eef6c73b28a",
   "metadata": {},
   "source": [
    " "
   ]
  },
  {
   "cell_type": "markdown",
   "id": "9c3f027b-7ca5-4608-a39e-f52172186d82",
   "metadata": {},
   "source": [
    "## 2. Плюсы и минусы некоторых метрик качества\n",
    "- $R^{2}$\n",
    "    - \"+\":\n",
    "        - Позволяет очень странным спобом сравнить прогнозы моделью и средним\n",
    "        - Дифференцируемость\n",
    "    - \"-\":\n",
    "        - Низкая интерпретируемость\n",
    "        - Плохо отражает реальную точность\n",
    "- MAPE\n",
    "    - \"+\":\n",
    "        - Высокая интерпретируемость\n",
    "        - Дифференцируемость\n",
    "    - \"-\":\n",
    "        - Высокая подверженность выбросам\n",
    "- MedAPE\n",
    "    - \"+\":\n",
    "        - Высокая интерпретируемость\n",
    "        - Низкая подверженность выбросам\n",
    "    - \"-\":\n",
    "        - Не дифференцируемость"
   ]
  },
  {
   "cell_type": "markdown",
   "id": "559062c5-5d9e-40af-a422-b53c3647278f",
   "metadata": {},
   "source": [
    " "
   ]
  },
  {
   "cell_type": "markdown",
   "id": "699f6c3c-a46c-455b-9bfc-6d9daff83965",
   "metadata": {},
   "source": [
    " "
   ]
  },
  {
   "cell_type": "markdown",
   "id": "b2fe5e16-7a43-4e53-92aa-ce9ec987db7f",
   "metadata": {},
   "source": [
    " "
   ]
  },
  {
   "cell_type": "markdown",
   "id": "1d8b0448-b62a-485d-aabc-950ce6dc5b57",
   "metadata": {},
   "source": [
    " "
   ]
  },
  {
   "cell_type": "markdown",
   "id": "15a5c466-5fb9-4478-8c3e-8ce797bb87d7",
   "metadata": {},
   "source": [
    " "
   ]
  },
  {
   "cell_type": "markdown",
   "id": "11266bdc-8f76-4ae6-94be-3e79ee5a3e78",
   "metadata": {},
   "source": [
    "# __Практика__"
   ]
  },
  {
   "cell_type": "markdown",
   "id": "e7d6d385-84b3-4408-a0a7-64c45782c41e",
   "metadata": {},
   "source": [
    "## 1. Функция потерь"
   ]
  },
  {
   "cell_type": "code",
   "execution_count": 15,
   "id": "e8a4ead8-aa6f-4598-b6a5-7e09162baa26",
   "metadata": {},
   "outputs": [],
   "source": [
    "def MSE(y, X, w, bias):\n",
    "    \"\"\"\n",
    "    Вычисляет значение функции потерь MSE для линейной регресиии.\n",
    "    \n",
    "    Параметры:\n",
    "        y (np.array, dim=(n,)) - истинные значения.\n",
    "        X (np.array, dim=(n,m)) - экзогенные факторы.\n",
    "        w (np.array, dim=(m,)) - веса модели.\n",
    "        bias (float) - смещение модели.\n",
    "    \n",
    "    Возвращает:\n",
    "        mse_value (float) - значение функции потерь.\n",
    "    \"\"\"\n",
    "    \n",
    "    y_pred = X @ w + bias\n",
    "    \n",
    "    return np.sqrt(np.mean(np.power(y_true - y_pred, 2)))"
   ]
  },
  {
   "cell_type": "code",
   "execution_count": null,
   "id": "ac4e7f26-638b-4c4e-8686-de2a734f1d95",
   "metadata": {},
   "outputs": [],
   "source": [
    "def MSE_diff(y, X, w, bias):\n",
    "    \"\"\"\n",
    "    Вычисляет значение вектор-градиент функции потерь RMSE для линейной регресиии.\n",
    "    \n",
    "    Параметры:\n",
    "        y (np.array, dim=(n,)) - истинные значения.\n",
    "        X (np.array, dim=(n,m)) - экзогенные факторы.\n",
    "        w (np.array, dim=(m,)) - веса модели.\n",
    "        bias (float) - смещение модели.\n",
    "    \n",
    "    Возвращает:\n",
    "        mse_grad (np.array) - значение вектор-градиент функции потерь (bias, w_1, w_2,.., w_m).\n",
    "    \"\"\"\n",
    "    \n",
    "    # <your code>"
   ]
  },
  {
   "cell_type": "markdown",
   "id": "0b668ddf-97c0-4348-bc38-60d0ccae4ecb",
   "metadata": {},
   "source": [
    "## 2. Отчёт по качеству"
   ]
  },
  {
   "cell_type": "code",
   "execution_count": 14,
   "id": "87072b98-bd57-4897-9d34-ba2b69b75167",
   "metadata": {},
   "outputs": [],
   "source": [
    "def quality_report(y_true, y_pred):\n",
    "    \"\"\"\n",
    "    Отчёт по метрикам качества.\n",
    "    \n",
    "    Параметры:\n",
    "        y_true (pd.Series|np.array) - истинные значения.\n",
    "        y_pred (pd.Series|np.array) - предсказанные значения.\n",
    "    \n",
    "    Возвращает:\n",
    "        report (pd.DataFrame) - отчёт по качеству.\n",
    "    \n",
    "    Пример:\n",
    "        $ quality_report(y_true, y_pred)\n",
    "        >> ----------------------\n",
    "        >> | Метрика | Значение |\n",
    "        >> ----------------------\n",
    "        >> | R_2     | 0.93     |\n",
    "        >> ----------------------\n",
    "        >> | MAPE    | 0.26     |\n",
    "        >> ----------------------\n",
    "        >> | MedAPE  | 0.21     |\n",
    "        >> ----------------------\n",
    "    \"\"\"\n",
    "    \n",
    "    # <your code>"
   ]
  },
  {
   "cell_type": "markdown",
   "id": "cf37c972-5b2e-4afe-b9a1-27d02e6dbe19",
   "metadata": {},
   "source": [
    "## 3. Модель (линейная регрессия)"
   ]
  },
  {
   "cell_type": "code",
   "execution_count": 33,
   "id": "8f4d1fe3-649e-405b-a5f9-fbacc901bee4",
   "metadata": {},
   "outputs": [],
   "source": [
    "class OwnLinearRegression:\n",
    "    \"\"\"\n",
    "    Линейная регрессия собственной реализации.\n",
    "    \"\"\"\n",
    "    \n",
    "    def __init__(self, loss_fun_diff, learning_rate=0.1, max_iters=50):\n",
    "        \"\"\"\n",
    "        Инициализация модели.\n",
    "        \n",
    "        Параметры:\n",
    "            loss_fun_diff (function) - производная функции потерь.\n",
    "            learning_rate (int>0) - шаг обучения.\n",
    "            max_iters (int>0) - максимальное количество итераций модели.\n",
    "        \"\"\"\n",
    "        \n",
    "        self.__loss_fun_diff = loss_fun_diff\n",
    "        self.__learning_rate = learning_rate\n",
    "        self.__max_iters = max_iters\n",
    "        \n",
    "        self.bias = 0\n",
    "        m = None # <your code>\n",
    "        self.w = np.ones(shape=m)\n",
    "    \n",
    "    \n",
    "    def __fit_iteration(self, X, y):\n",
    "        \"\"\"\n",
    "        Итерация обучения. Обновляет веса модели на антиградиент функции потерь.\n",
    "        \n",
    "        Параметры:\n",
    "            X (np.array, dim=(n,m)) - признаки.\n",
    "            y (np.array, dim=(n,)) - таргет.\n",
    "        \"\"\"\n",
    "        \n",
    "        bias_antigrad, *w_antigrad = - self.__loss_fun_diff(y, X, self.w, self.bias)\n",
    "        \n",
    "        self.bias += None # <your code>\n",
    "        self.w += None # <your code>\n",
    "    \n",
    "    \n",
    "    def fit(self, X, y):\n",
    "        \"\"\"\n",
    "        Обучение модели.\n",
    "        \n",
    "        Параметры:\n",
    "            X (np.array, dim=(n,m)) - признаки.\n",
    "            y (np.array, dim=(n,)) - таргет.\n",
    "        \"\"\"\n",
    "        \n",
    "        for _ in range(self.__max_iters):\n",
    "            self.__fit_iteration(X, y)\n",
    "        \n",
    "        return self\n",
    "    \n",
    "    \n",
    "    def predict(self, X):\n",
    "        \"\"\"\n",
    "        Вычисление прогноза модели.\n",
    "        \n",
    "        Параметры:\n",
    "            X (np.array, dim=(n,m)) - признаки.\n",
    "        \n",
    "        Возвращает:\n",
    "            y (np.array, dim=(n,)) - прогноз.\n",
    "        \"\"\"\n",
    "        \n",
    "        # <your code>"
   ]
  },
  {
   "cell_type": "code",
   "execution_count": null,
   "id": "38d2e6a7-45d3-4b47-8a19-50708650515e",
   "metadata": {},
   "outputs": [],
   "source": [
    "LEARNING_RATE = 0.1\n",
    "MAX_ITERS = 50\n",
    "\n",
    "olr = OwnLinearRegression(LEARNING_RATE, MAX_ITERS).fit(X_train, y_train)\n",
    "y_pred = olr.predict(X_test)\n",
    "\n",
    "quality_report(y_test, y_pred)"
   ]
  },
  {
   "cell_type": "markdown",
   "id": "6458685b-31bc-40e5-b5be-00b477eba86b",
   "metadata": {},
   "source": [
    "## 4. Сравнение с готовой реализацией"
   ]
  },
  {
   "cell_type": "code",
   "execution_count": null,
   "id": "662357fb-506d-4282-95a0-d959cbaa433e",
   "metadata": {},
   "outputs": [],
   "source": [
    "lr = LinearRegression().fit(X_train, y_train)\n",
    "y_pred_sklearn = lr.predict(X_test)\n",
    "quality_report(y_test, y_pred_sklearn)"
   ]
  }
 ],
 "metadata": {
  "kernelspec": {
   "display_name": "Python 3",
   "language": "python",
   "name": "python3"
  },
  "language_info": {
   "codemirror_mode": {
    "name": "ipython",
    "version": 3
   },
   "file_extension": ".py",
   "mimetype": "text/x-python",
   "name": "python",
   "nbconvert_exporter": "python",
   "pygments_lexer": "ipython3",
   "version": "3.9.4"
  }
 },
 "nbformat": 4,
 "nbformat_minor": 5
}
