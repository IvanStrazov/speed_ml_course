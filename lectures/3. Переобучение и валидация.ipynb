{
 "cells": [
  {
   "cell_type": "markdown",
   "id": "4dc30bab-070c-49f7-af2a-e00b14bed47d",
   "metadata": {},
   "source": [
    "# __3. Переобучение и валидация__"
   ]
  },
  {
   "cell_type": "markdown",
   "id": "6df783ee-60c9-4555-861a-2aa65f477b71",
   "metadata": {},
   "source": [
    "# __Библиотеки и настройки сессии__"
   ]
  },
  {
   "cell_type": "markdown",
   "id": "2acefc01-e5ae-44fe-8e00-568b39620b69",
   "metadata": {},
   "source": [
    "### Библиотеки"
   ]
  },
  {
   "cell_type": "code",
   "execution_count": 1,
   "id": "5538b3d5-ac89-4efd-a9e8-bcf3df620204",
   "metadata": {},
   "outputs": [],
   "source": [
    "import pandas as pd\n",
    "import numpy as np\n",
    "\n",
    "import matplotlib.pyplot as plt\n",
    "\n",
    "from sklearn.datasets import load_boston\n",
    "from sklearn.model_selection import train_test_split\n",
    "from sklearn.tree import DecisionTreeRegressor, plot_tree"
   ]
  },
  {
   "cell_type": "markdown",
   "id": "ec63797f-f50a-485d-b8d5-aca9f94d1914",
   "metadata": {},
   "source": [
    "### Настройки сессии"
   ]
  },
  {
   "cell_type": "code",
   "execution_count": null,
   "id": "b2a72e7d-448b-4c52-a41e-168ca87631f6",
   "metadata": {},
   "outputs": [],
   "source": []
  },
  {
   "cell_type": "markdown",
   "id": "8b7c7285-2ba9-40aa-995b-160e5e5ace2d",
   "metadata": {},
   "source": [
    " "
   ]
  },
  {
   "cell_type": "markdown",
   "id": "a41a5dc8-ea11-4eec-8979-df8042f318b1",
   "metadata": {},
   "source": [
    " "
   ]
  },
  {
   "cell_type": "markdown",
   "id": "0b2952d2-060a-4669-87aa-ae47b4d00af9",
   "metadata": {},
   "source": [
    " "
   ]
  },
  {
   "cell_type": "markdown",
   "id": "3f193e69-3c8f-4673-9db5-45779583422a",
   "metadata": {},
   "source": [
    " "
   ]
  },
  {
   "cell_type": "markdown",
   "id": "8d05d805-9147-48a2-9521-bbb7e5247e5e",
   "metadata": {},
   "source": [
    " "
   ]
  },
  {
   "cell_type": "code",
   "execution_count": 4,
   "id": "db5ed2b3-ee20-449b-bd6c-4bde04d58dc3",
   "metadata": {},
   "outputs": [],
   "source": [
    "def RMSE(y_true, y_pred):\n",
    "    return np.sqrt(np.mean(np.power(y_true - y_pred, 2)))\n",
    "\n",
    "def MAPE(y_true, y_pred):\n",
    "    return np.mean(np.abs((y_true - y_pred) / (y_true + 1e-6)))\n",
    "\n",
    "def reg_report(y_true, y_pred):\n",
    "    print(f\"RMSE: {RMSE(y_true, y_pred):.1f}\")\n",
    "    print(f\"MAPE: {100*MAPE(y_true, y_pred):.0f}%\")"
   ]
  },
  {
   "cell_type": "markdown",
   "id": "7b6bb561-8609-4463-8a38-8f5d415b944c",
   "metadata": {},
   "source": [
    "# __Пример переобучения__"
   ]
  },
  {
   "cell_type": "code",
   "execution_count": 2,
   "id": "ddbdd8c1-b36c-4724-83cc-a63d2996dcb8",
   "metadata": {},
   "outputs": [],
   "source": [
    "boston = load_boston()\n",
    "X = pd.DataFrame(boston.data, columns = boston.feature_names)\n",
    "y = pd.Series(boston.target)\n",
    "X_train, X_test, y_train, y_test = train_test_split(X, y, test_size=0.2)"
   ]
  },
  {
   "cell_type": "code",
   "execution_count": 30,
   "id": "fb65d421-d4f7-4b07-808e-5a389dc78b55",
   "metadata": {},
   "outputs": [
    {
     "name": "stdout",
     "output_type": "stream",
     "text": [
      "Train score\n",
      "RMSE: 0.0\n",
      "MAPE: 0%\n",
      "\n",
      "Test score\n",
      "RMSE: 5.2\n",
      "MAPE: 15%\n"
     ]
    }
   ],
   "source": [
    "criterion = \"mae\"\n",
    "max_depth = 100\n",
    "min_samples_split = 2\n",
    "min_samples_leaf = 1\n",
    "random_state = 42\n",
    "\n",
    "dt = DecisionTreeRegressor(criterion=criterion,\n",
    "                           max_depth=max_depth,\n",
    "                           min_samples_split=min_samples_split,\n",
    "                           min_samples_leaf=min_samples_leaf,\n",
    "                           random_state=random_state\n",
    "                          ).fit(X_train, y_train)\n",
    "y_train_dt = dt.predict(X_train)\n",
    "y_test_dt = dt.predict(X_test)\n",
    "print(\"Train score\")\n",
    "reg_report(y_train, y_train_dt)\n",
    "print(\"\\nTest score\")\n",
    "reg_report(y_test, y_test_dt)"
   ]
  },
  {
   "cell_type": "code",
   "execution_count": 29,
   "id": "5d5b3ff6-b8d3-48a9-9288-19d3652e2e17",
   "metadata": {},
   "outputs": [
    {
     "name": "stdout",
     "output_type": "stream",
     "text": [
      "Train score\n",
      "RMSE: 3.7\n",
      "MAPE: 14%\n",
      "\n",
      "Test score\n",
      "RMSE: 4.9\n",
      "MAPE: 16%\n"
     ]
    }
   ],
   "source": [
    "criterion = \"mae\"\n",
    "max_depth = 3\n",
    "min_samples_split = 2\n",
    "min_samples_leaf = 1\n",
    "random_state = 42\n",
    "\n",
    "dt = DecisionTreeRegressor(criterion=criterion,\n",
    "                           max_depth=max_depth,\n",
    "                           min_samples_split=min_samples_split,\n",
    "                           min_samples_leaf=min_samples_leaf,\n",
    "                           random_state=random_state\n",
    "                          ).fit(X_train, y_train)\n",
    "y_train_dt = dt.predict(X_train)\n",
    "y_test_dt = dt.predict(X_test)\n",
    "print(\"Train score\")\n",
    "reg_report(y_train, y_train_dt)\n",
    "print(\"\\nTest score\")\n",
    "reg_report(y_test, y_test_dt)"
   ]
  }
 ],
 "metadata": {
  "kernelspec": {
   "display_name": "Python 3",
   "language": "python",
   "name": "python3"
  },
  "language_info": {
   "codemirror_mode": {
    "name": "ipython",
    "version": 3
   },
   "file_extension": ".py",
   "mimetype": "text/x-python",
   "name": "python",
   "nbconvert_exporter": "python",
   "pygments_lexer": "ipython3",
   "version": "3.9.4"
  }
 },
 "nbformat": 4,
 "nbformat_minor": 5
}
