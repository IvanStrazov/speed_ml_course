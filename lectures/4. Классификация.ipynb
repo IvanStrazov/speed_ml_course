{
 "cells": [
  {
   "cell_type": "markdown",
   "id": "6e7acb40-5b2c-4da9-9e9a-a25cd9b855d8",
   "metadata": {},
   "source": [
    "# __4. Классификация__"
   ]
  },
  {
   "cell_type": "code",
   "execution_count": null,
   "id": "8c2c8372-5a51-4c8f-bd82-364520d840c2",
   "metadata": {},
   "outputs": [],
   "source": []
  },
  {
   "cell_type": "code",
   "execution_count": null,
   "id": "fa6528f8-e9df-465c-82d8-dc2acb69f5b6",
   "metadata": {},
   "outputs": [],
   "source": []
  },
  {
   "cell_type": "code",
   "execution_count": null,
   "id": "61498714-fe60-4f9a-b1d8-0248ba79a049",
   "metadata": {},
   "outputs": [],
   "source": []
  },
  {
   "cell_type": "code",
   "execution_count": null,
   "id": "26a3d584-5c22-4fc0-ac87-0ff59513ceb0",
   "metadata": {},
   "outputs": [],
   "source": []
  }
 ],
 "metadata": {
  "kernelspec": {
   "display_name": "Python 3",
   "language": "python",
   "name": "python3"
  },
  "language_info": {
   "codemirror_mode": {
    "name": "ipython",
    "version": 3
   },
   "file_extension": ".py",
   "mimetype": "text/x-python",
   "name": "python",
   "nbconvert_exporter": "python",
   "pygments_lexer": "ipython3",
   "version": "3.9.4"
  }
 },
 "nbformat": 4,
 "nbformat_minor": 5
}
